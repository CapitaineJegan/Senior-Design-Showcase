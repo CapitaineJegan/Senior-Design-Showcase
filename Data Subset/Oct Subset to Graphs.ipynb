{
 "cells": [
  {
   "cell_type": "code",
   "execution_count": 1,
   "metadata": {},
   "outputs": [],
   "source": [
    "import pandas as pd\n",
    "from pandas import ExcelWriter\n",
    "from pandas import ExcelFile\n",
    "from plotnine import *\n",
    "from plotnine.data import mpg\n",
    "import matplotlib.pyplot as plt\n",
    "\n",
    "#Create dataframes from Excel\n",
    "\n",
    "df = pd.read_excel('oct_2019.xlsx', sheet_name='All Flights') #CHANGE FILE AND SHEET NAMES\n",
    "df2 = pd.read_excel('regionMapping.xlsx', sheet_name='regionMapping') #CHANGE FILE AND SHEET NAMES\n",
    "df3 = pd.read_excel('regionMapping2.xlsx', sheet_name='regionMapping') #CHANGE FILE AND SHEET NAMES\n",
    "\n",
    "\n",
    "#Join dataframes to get rid of international flights\n",
    "df = df.join(df2.set_index('Station'), on='Org')\n",
    "df = df.join(df3.set_index('Station'), on='Dst')\n",
    "df = df.dropna(subset=['Orig Region','Dest Region'])\n",
    "\n",
    "#THIS MELTS DF\n",
    "melt = pd.melt(df, id_vars=['Flt','Org','Dst','Eqt','Dptr','Arvl','BLK MINS','MILES','Desk'] \n",
    "\t,value_vars=[1,2,3,4,5,6,7,8,9,10,11,12,13,14,15,16,17,18,19,20,21,22,23,24,25,26,27,28,29,30,31]\n",
    "\t,var_name = 'Day'\n",
    "\t,value_name = 'Schd')\n",
    "\n",
    "#Drop not scheduled flights N/A\n",
    "melt = melt.dropna(subset=['Schd'])\n",
    "\n",
    "#Set Year, Month and Date\n",
    "melt['Month'] =  10\n",
    "melt['Year'] =  2019\n",
    "melt['Date'] = pd.to_datetime(melt[['Year', 'Month', 'Day']])\n",
    "\n",
    "#Make Departure, Arrival, and Release time columns\n",
    "melt['Dept Time'] = pd.to_datetime(melt['Year'].astype(str) + '/' + melt['Month'].astype(str) + '/' + melt['Day'].astype(str) + ' ' +melt['Dptr'].astype(str),utc=True)\n",
    "melt['Arr Time'] = pd.to_datetime(melt['Year'].astype(str) + '/' + melt['Month'].astype(str) + '/' + melt['Day'].astype(str) + ' ' +melt['Arvl'].astype(str),utc=True)\n",
    "melt['Rls Time'] = melt['Dept Time'] + pd.Timedelta(minutes=-90)\n",
    "\n"
   ]
  },
  {
   "cell_type": "code",
   "execution_count": 12,
   "metadata": {},
   "outputs": [
    {
     "name": "stdout",
     "output_type": "stream",
     "text": [
      "   Flt  Org  Dst  Eqt      Dptr      Arvl  BLK MINS  MILES Desk Day  ...  \\\n",
      "0   68  PDX  SLC  739  20:13:00  21:58:00       105    630    1   1  ...   \n",
      "2  367  DEN  LAX  319  18:06:00  20:37:00       151    862    1   1  ...   \n",
      "3  367  LAX  DEN  319  15:00:00  17:19:00       139    862    1   1  ...   \n",
      "4  473  LAX  PDX  319  16:05:00  18:31:00       146    834    1   1  ...   \n",
      "5  473  PDX  LAX  319  19:25:00  21:40:00       135    834    1   1  ...   \n",
      "\n",
      "  Month  Year       Date                 Dept Time                  Arr Time  \\\n",
      "0    10  2019 2019-10-01 2019-10-01 20:13:00+00:00 2019-10-01 21:58:00+00:00   \n",
      "2    10  2019 2019-10-01 2019-10-01 18:06:00+00:00 2019-10-01 20:37:00+00:00   \n",
      "3    10  2019 2019-10-01 2019-10-01 15:00:00+00:00 2019-10-01 17:19:00+00:00   \n",
      "4    10  2019 2019-10-01 2019-10-01 16:05:00+00:00 2019-10-01 18:31:00+00:00   \n",
      "5    10  2019 2019-10-01 2019-10-01 19:25:00+00:00 2019-10-01 21:40:00+00:00   \n",
      "\n",
      "                   Rls Time Rls HR  Dept HR  Arr HR  \\\n",
      "0 2019-10-01 18:43:00+00:00     18       20      21   \n",
      "2 2019-10-01 16:36:00+00:00     16       18      20   \n",
      "3 2019-10-01 13:30:00+00:00     13       15      17   \n",
      "4 2019-10-01 14:35:00+00:00     14       16      18   \n",
      "5 2019-10-01 17:55:00+00:00     17       19      21   \n",
      "\n",
      "                                FltID  \n",
      "0   2019-10-01 20:13:00+00:0068PDXSLC  \n",
      "2  2019-10-01 18:06:00+00:00367DENLAX  \n",
      "3  2019-10-01 15:00:00+00:00367LAXDEN  \n",
      "4  2019-10-01 16:05:00+00:00473LAXPDX  \n",
      "5  2019-10-01 19:25:00+00:00473PDXLAX  \n",
      "\n",
      "[5 rows x 21 columns]\n"
     ]
    }
   ],
   "source": [
    "#Make Hour Columns for each time\n",
    "melt['Rls HR'] = melt['Rls Time'].dt.hour\n",
    "melt['Dept HR'] = melt['Dept Time'].dt.hour\n",
    "melt['Arr HR'] = melt['Arr Time'].dt.hour\n",
    "\n",
    "melt['FltID'] = melt['Dept Time'].astype(str) + melt['Flt'].astype(str) + melt['Org'].astype(str) + melt['Dst'].astype(str)\n",
    "\n",
    "#Print Sample\n",
    "print(melt.head())\n",
    "melt['FltID']\n",
    "# melt.dtypes\n",
    "\n",
    "#Export melted df to a csv\n",
    "export_csv = melt.to_csv(r'oct_2019 MELT.csv', header=True) #CHANGE FILE NAME\n",
    "# export_csv = melt['FltID'].to_csv(r'FltID.csv', header=True) #CHANGE FILE NAME\n"
   ]
  },
  {
   "cell_type": "code",
   "execution_count": 13,
   "metadata": {},
   "outputs": [],
   "source": [
    "#Set day\n",
    "daymelt = melt[melt['Day'] == 1]\n",
    "\n",
    "#Get counts for each hour\n",
    "Rhour = daymelt.groupby(['Rls HR']).count()[['Flt']]\n",
    "Dhour = daymelt.groupby(['Dept HR']).count()[['Flt']]\n",
    "Ahour = daymelt.groupby(['Arr HR']).count()[['Flt']]\n",
    "\n",
    "#Merge counts into one table\n",
    "HR1 = pd.merge(Rhour,Dhour,right_index=True, left_index=True,how='outer')\n",
    "Hours = pd.merge(HR1,Ahour,right_index=True, left_index=True,how='outer')"
   ]
  },
  {
   "cell_type": "code",
   "execution_count": 14,
   "metadata": {},
   "outputs": [
    {
     "data": {
      "text/plain": [
       "<matplotlib.axes._subplots.AxesSubplot at 0x1c1a3d3cd0>"
      ]
     },
     "execution_count": 14,
     "metadata": {},
     "output_type": "execute_result"
    },
    {
     "data": {
      "image/png": "[encoded data removed]",
      "text/plain": [
       "<Figure size 432x288 with 1 Axes>"
      ]
     },
     "metadata": {
      "needs_background": "light"
     },
     "output_type": "display_data"
    }
   ],
   "source": [
    "#Plot\n",
    "# Rplot = Rhour.plot.bar()\n",
    "# Dplot = Dhour.plot.bar()\n",
    "# Aplot = Ahour.plot.bar()\n",
    "\n",
    "Hours.plot.bar()"
   ]
  },
  {
   "cell_type": "code",
   "execution_count": 138,
   "metadata": {},
   "outputs": [
    {
     "data": {
      "text/plain": [
       "<matplotlib.axes._subplots.AxesSubplot at 0x1c1d207190>"
      ]
     },
     "execution_count": 138,
     "metadata": {},
     "output_type": "execute_result"
    },
    {
     "data": {
      "image/png": "[encoded data removed]",
      "text/plain": [
       "<Figure size 432x288 with 1 Axes>"
      ]
     },
     "metadata": {
      "needs_background": "light"
     },
     "output_type": "display_data"
    }
   ],
   "source": [
    "daymelt = melt[melt['Day'] == 1]\n",
    "deskmelt = daymelt[daymelt['Desk'] == 1]\n",
    "\n",
    "org_cities = deskmelt.filter(['Org','Desk','Rls HR'])\n",
    "org_cities = org_cities.filter(['Org','Desk','Rls HR']).rename(columns={\"Org\": \"City\"})\n",
    "\n",
    "dst_cities = deskmelt.filter(['Dst','Desk','Rls HR'])\n",
    "dst_cities = dst_cities.filter(['Dst','Desk','Rls HR']).rename(columns={\"Dst\": \"City\"})\n",
    "\n",
    "cities = org_cities.append(dst_cities).groupby(['Desk','Rls HR']).nunique()\n",
    "cities = cities.filter(['City'])\n",
    "\n",
    "cities.plot.bar(y='City')\n",
    "\n",
    "# export_csv = cities.to_csv(r'Cities.csv', header=True) #CHANGE FILE NAME"
   ]
  },
  {
   "cell_type": "code",
   "execution_count": null,
   "metadata": {},
   "outputs": [],
   "source": []
  },
  {
   "cell_type": "code",
   "execution_count": null,
   "metadata": {},
   "outputs": [],
   "source": []
  }
 ],
 "metadata": {
  "kernelspec": {
   "display_name": "Python 3",
   "language": "python",
   "name": "python3"
  },
  "language_info": {
   "codemirror_mode": {
    "name": "ipython",
    "version": 3
   },
   "file_extension": ".py",
   "mimetype": "text/x-python",
   "name": "python",
   "nbconvert_exporter": "python",
   "pygments_lexer": "ipython3",
   "version": "3.7.4"
  }
 },
 "nbformat": 4,
 "nbformat_minor": 2
}
