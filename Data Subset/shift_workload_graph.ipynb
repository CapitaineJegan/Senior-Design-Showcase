{
 "cells": [
  {
   "cell_type": "code",
   "execution_count": 32,
   "metadata": {},
   "outputs": [],
   "source": [
    "import pandas as pd\n",
    "import matplotlib.pyplot as plt"
   ]
  },
  {
   "cell_type": "code",
   "execution_count": 63,
   "metadata": {},
   "outputs": [
    {
     "name": "stdout",
     "output_type": "stream",
     "text": [
      "Index(['Unnamed: 0', 'Flt', 'Org', 'Dst', 'Eqt', 'Dptr', 'Arvl', 'BLK MINS',\n",
      "       'MILES', 'Desk', 'Day', 'Schd', 'Month', 'Year', 'Date', 'Dept Time',\n",
      "       'Arr Time', 'Rls Time', 'Rls HR', 'Dept HR', 'Arr HR'],\n",
      "      dtype='object')\n",
      "    Unnamed: 0   Flt  Org  Dst  Eqt      Dptr      Arvl  BLK MINS  MILES Desk  \\\n",
      "0            0    68  PDX  SLC  739  20:13:00  21:58:00       105    630    1   \n",
      "1            2   367  DEN  LAX  319  18:06:00  20:37:00       151    862    1   \n",
      "2            3   367  LAX  DEN  319  15:00:00  17:19:00       139    862    1   \n",
      "3            4   473  LAX  PDX  319  16:05:00  18:31:00       146    834    1   \n",
      "4            5   473  PDX  LAX  319  19:25:00  21:40:00       135    834    1   \n",
      "..         ...   ...  ...  ...  ...       ...       ...       ...    ...  ...   \n",
      "61          83  2887  DEN  SEA  319  23:00:00  01:57:00       177   1024    1   \n",
      "62          84  2889  SLC  SEA  738  02:35:00  04:50:00       135    689    1   \n",
      "63          85  2901  DEN  SLC  319  13:15:00  14:55:00       100    391    1   \n",
      "64          86  2942  LAX  DEN  319  17:05:00  19:19:00       134    862    1   \n",
      "65          88  2985  SEA  DEN  CS1  02:10:00  04:41:00       151   1024    1   \n",
      "\n",
      "    ...  Schd Month  Year        Date                  Dept Time  \\\n",
      "0   ...     X    10  2019  2019-10-01  2019-10-01 20:13:00+00:00   \n",
      "1   ...     1    10  2019  2019-10-01  2019-10-01 18:06:00+00:00   \n",
      "2   ...     1    10  2019  2019-10-01  2019-10-01 15:00:00+00:00   \n",
      "3   ...     1    10  2019  2019-10-01  2019-10-01 16:05:00+00:00   \n",
      "4   ...     1    10  2019  2019-10-01  2019-10-01 19:25:00+00:00   \n",
      "..  ...   ...   ...   ...         ...                        ...   \n",
      "61  ...     1    10  2019  2019-10-01  2019-10-01 23:00:00+00:00   \n",
      "62  ...     U    10  2019  2019-10-01  2019-10-01 02:35:00+00:00   \n",
      "63  ...     1    10  2019  2019-10-01  2019-10-01 13:15:00+00:00   \n",
      "64  ...     1    10  2019  2019-10-01  2019-10-01 17:05:00+00:00   \n",
      "65  ...     U    10  2019  2019-10-01  2019-10-01 02:10:00+00:00   \n",
      "\n",
      "                     Arr Time                   Rls Time Rls HR  Dept HR  \\\n",
      "0   2019-10-01 21:58:00+00:00  2019-10-01 18:43:00+00:00     18       20   \n",
      "1   2019-10-01 20:37:00+00:00  2019-10-01 16:36:00+00:00     16       18   \n",
      "2   2019-10-01 17:19:00+00:00  2019-10-01 13:30:00+00:00     13       15   \n",
      "3   2019-10-01 18:31:00+00:00  2019-10-01 14:35:00+00:00     14       16   \n",
      "4   2019-10-01 21:40:00+00:00  2019-10-01 17:55:00+00:00     17       19   \n",
      "..                        ...                        ...    ...      ...   \n",
      "61  2019-10-01 01:57:00+00:00  2019-10-01 21:30:00+00:00     21       23   \n",
      "62  2019-10-01 04:50:00+00:00  2019-10-01 01:05:00+00:00      1        2   \n",
      "63  2019-10-01 14:55:00+00:00  2019-10-01 11:45:00+00:00     11       13   \n",
      "64  2019-10-01 19:19:00+00:00  2019-10-01 15:35:00+00:00     15       17   \n",
      "65  2019-10-01 04:41:00+00:00  2019-10-01 00:40:00+00:00      0        2   \n",
      "\n",
      "    Arr HR  \n",
      "0       21  \n",
      "1       20  \n",
      "2       17  \n",
      "3       18  \n",
      "4       21  \n",
      "..     ...  \n",
      "61       1  \n",
      "62       4  \n",
      "63      14  \n",
      "64      19  \n",
      "65       4  \n",
      "\n",
      "[66 rows x 21 columns]\n"
     ]
    }
   ],
   "source": [
    "df = pd.read_csv('oct_2019 MELT.csv') #CHANGE FILE AND SHEET NAMES\n",
    "df2 = pd.read_excel('regionMapping.xlsx', sheet_name='regionMapping') #CHANGE FILE AND SHEET NAMES\n",
    "df3 = pd.read_excel('regionMapping2.xlsx', sheet_name='regionMapping') #CHANGE FILE AND SHEET NAMES\n",
    "\n",
    "\n",
    "df = pd.read_csv('oct_2019 MELT.csv') #melted file names\n",
    "print(df.columns)\n",
    "\n",
    "df = df.loc[df['Desk'] == '1']\n",
    "df = df.loc[df['Date'] == '2019-10-01']\n",
    "print(df)\n",
    "\n",
    "\n",
    "                   \n",
    "#df['Flight_ID'] = df[]"
   ]
  },
  {
   "cell_type": "code",
   "execution_count": 65,
   "metadata": {},
   "outputs": [
    {
     "name": "stdout",
     "output_type": "stream",
     "text": [
      "Empty DataFrame\n",
      "Columns: [0, 1, 2, 3, 4, 5, 6, 7, 8, 9, 10, 11, 12, 13, 14, 15, 16, 17, 18, 19, 20, 21, 22, 23]\n",
      "Index: []\n",
      "\n",
      "[0 rows x 24 columns]\n"
     ]
    }
   ],
   "source": [
    "event_hours = pd.DataFrame(columns = [i for i in range(0, 24)])\n",
    "print(event_hours)"
   ]
  },
  {
   "cell_type": "code",
   "execution_count": 66,
   "metadata": {},
   "outputs": [
    {
     "name": "stdout",
     "output_type": "stream",
     "text": [
      "   0  1  2  3  4  5  6  7  8  9   ... 14 15 16 17 18 19 20 21 22 23\n",
      "0   0  0  0  0  0  0  0  0  0  0  ...  0  0  0  0  R  0  D  A  0  0\n",
      "1   0  0  0  0  0  0  0  0  0  0  ...  0  0  R  0  D  M  A  0  0  0\n",
      "2   0  0  0  0  0  0  0  0  0  0  ...  0  D  M  A  0  0  0  0  0  0\n",
      "3   0  0  0  0  0  0  0  0  0  0  ...  R  0  D  M  A  0  0  0  0  0\n",
      "4   0  0  0  0  0  0  0  0  0  0  ...  0  0  0  R  0  D  M  A  0  0\n",
      ".. .. .. .. .. .. .. .. .. .. ..  ... .. .. .. .. .. .. .. .. .. ..\n",
      "61  0  A  0  0  0  0  0  0  0  0  ...  0  0  0  0  0  0  0  R  0  D\n",
      "62  0  R  D  M  A  0  0  0  0  0  ...  0  0  0  0  0  0  0  0  0  0\n",
      "63  0  0  0  0  0  0  0  0  0  0  ...  A  0  0  0  0  0  0  0  0  0\n",
      "64  0  0  0  0  0  0  0  0  0  0  ...  0  R  0  D  M  A  0  0  0  0\n",
      "65  R  0  D  M  A  0  0  0  0  0  ...  0  0  0  0  0  0  0  0  0  0\n",
      "\n",
      "[66 rows x 24 columns]\n"
     ]
    }
   ],
   "source": [
    "for i in range(len(df)):\n",
    "    row = df.iloc[i]\n",
    "    rls_hr = row['Rls HR']\n",
    "    dep_hr = row['Dept HR']\n",
    "    arr_hr = row['Arr HR']\n",
    "    mon_hrs = [hr for hr in range(dep_hr + 1, arr_hr)]\n",
    "    \n",
    "    #print(mon_hrs)\n",
    "    #print(rls_hr, arr_hr, dep_hr)\n",
    "    \n",
    "    hours_list = [0 for num in range(0, 24)]\n",
    "    #print(hours_list)\n",
    "    hours_list[rls_hr] = 'R'\n",
    "    hours_list[dep_hr] = 'D'\n",
    "    hours_list[arr_hr] = 'A'\n",
    "    for hr in mon_hrs:\n",
    "        hours_list[hr] = 'M'\n",
    "        \n",
    "    #print(hours_list)\n",
    "\n",
    "    event_hours.loc[i] = hours_list\n",
    "print(event_hours)"
   ]
  },
  {
   "cell_type": "code",
   "execution_count": 70,
   "metadata": {},
   "outputs": [],
   "source": [
    "# CHANGE THESE TIMES LATER\n",
    "\n",
    "rls_time = 5\n",
    "dep_time = 2\n",
    "arr_time = 4\n",
    "mon_time = 2\n",
    "\n",
    "x = list((event_hours.columns))\n",
    "time_worked = []\n",
    "num_rls = []\n",
    "for hr in x:\n",
    "    counts = event_hours[hr].value_counts()\n",
    "\n",
    "    if 'A' in counts:\n",
    "        counts_A = counts['A']\n",
    "    else:\n",
    "        counts_A = 0\n",
    "        \n",
    "    if 'R' in counts:\n",
    "        counts_R = counts['R']\n",
    "    else:\n",
    "        counts_R = 0\n",
    "        \n",
    "    if 'D' in counts:\n",
    "        counts_D = counts['D']\n",
    "    else:\n",
    "        counts_D = 0\n",
    "        \n",
    "    if 'M' in counts:\n",
    "        counts_M = counts['M']\n",
    "    else:\n",
    "        counts_M = 0\n",
    "        \n",
    "    num_rls.append(counts_R)\n",
    "        \n",
    "    total_time = rls_time*counts_R + dep_time*counts_D + arr_time*counts_A + mon_time*counts_M\n",
    "    time_worked.append(total_time)"
   ]
  },
  {
   "cell_type": "code",
   "execution_count": 69,
   "metadata": {},
   "outputs": [
    {
     "data": {
      "text/plain": [
       "[<matplotlib.lines.Line2D at 0x1152cbf60>]"
      ]
     },
     "execution_count": 69,
     "metadata": {},
     "output_type": "execute_result"
    },
    {
     "data": {
      "image/png": "[encoded data removed]",
      "text/plain": [
       "<Figure size 432x288 with 1 Axes>"
      ]
     },
     "metadata": {
      "needs_background": "light"
     },
     "output_type": "display_data"
    }
   ],
   "source": [
    "# Workload Distribution over Shift\n",
    "\n",
    "plt.plot(x, time_worked)"
   ]
  },
  {
   "cell_type": "code",
   "execution_count": 71,
   "metadata": {},
   "outputs": [
    {
     "data": {
      "text/plain": [
       "[<matplotlib.lines.Line2D at 0x1153061d0>]"
      ]
     },
     "execution_count": 71,
     "metadata": {},
     "output_type": "execute_result"
    },
    {
     "data": {
      "image/png": "[encoded data removed]",
      "text/plain": [
       "<Figure size 432x288 with 1 Axes>"
      ]
     },
     "metadata": {
      "needs_background": "light"
     },
     "output_type": "display_data"
    }
   ],
   "source": [
    "# Number of Releases per Hours\n",
    "\n",
    "plt.plot(x, num_rls)"
   ]
  },
  {
   "cell_type": "code",
   "execution_count": null,
   "metadata": {},
   "outputs": [],
   "source": []
  }
 ],
 "metadata": {
  "kernelspec": {
   "display_name": "Python 3",
   "language": "python",
   "name": "python3"
  },
  "language_info": {
   "codemirror_mode": {
    "name": "ipython",
    "version": 3
   },
   "file_extension": ".py",
   "mimetype": "text/x-python",
   "name": "python",
   "nbconvert_exporter": "python",
   "pygments_lexer": "ipython3",
   "version": "3.7.2"
  }
 },
 "nbformat": 4,
 "nbformat_minor": 2
}
